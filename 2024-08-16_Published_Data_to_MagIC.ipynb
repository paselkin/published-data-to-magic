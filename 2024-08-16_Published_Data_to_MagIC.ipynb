{
 "cells": [
  {
   "cell_type": "code",
   "execution_count": 1,
   "metadata": {},
   "outputs": [],
   "source": [
    "import pmagpy\n",
    "import pmagpy.pmagplotlib as pmagplotlib\n",
    "import pmagpy.ipmag as ipmag\n",
    "import pmagpy.pmag as pmag\n",
    "import pmagpy.contribution_builder as cb\n",
    "from pmagpy import convert_2_magic as convert\n",
    "import pandas as pd\n",
    "import matplotlib as mpl\n",
    "import matplotlib.pyplot as plt\n",
    "import numpy as np\n",
    "import os\n",
    "import re\n",
    "import glob as glob\n",
    "import shutil\n",
    "import math\n",
    "from pathlib import Path\n",
    "import time\n",
    "from tqdm import tqdm\n",
    "%matplotlib inline"
   ]
  },
  {
   "cell_type": "code",
   "execution_count": 2,
   "metadata": {},
   "outputs": [],
   "source": [
    "home = Path(os.getcwd())\n",
    "data_folder = home/'data'\n",
    "magic_folder = home/'magic'"
   ]
  },
  {
   "cell_type": "code",
   "execution_count": 3,
   "metadata": {},
   "outputs": [],
   "source": [
    "def add_vgps(sites_df):\n",
    "    # Outputs dataframe with columns: vgp_lat, vgp_lon, vgp_dp, vgp_dm\n",
    "    data=sites_df[['dir_dec','dir_inc','dir_alpha95','lat','lon']].to_numpy()\n",
    "    vgps=np.array(pmag.dia_vgp(data)) \n",
    "    vgps=vgps.transpose()\n",
    "    return(pd.DataFrame(vgps,columns=['vgp_lon','vgp_lat','vgp_dp','vgp_dm'],index=sites_df.index))\n",
    "\n",
    "def dir_df_boot_ci(dir_df, nb=500, column_map=None, return_distribution=False):\n",
    "    \"\"\"\n",
    "    Performs a bootstrap for direction DataFrame with parametric bootstrap,\n",
    "    providing bootstrap kappa parameter\n",
    "\n",
    "    Parameters\n",
    "    ----------\n",
    "    dir_df : Pandas DataFrame with columns:\n",
    "        dir_dec : mean declination\n",
    "        dir_inc : mean inclination\n",
    "        dir_n : number of data points in mean\n",
    "        dir_k : Fisher k statistic for mean\n",
    "    nb : number of bootstraps, default is 5000\n",
    "    return_distribution : return DataFrame of dec, inc, kappa values\n",
    "            (default: False)\n",
    "\n",
    "    Returns\n",
    "    -------\n",
    "    if return_distribution is False:\n",
    "        boot_results: Pandas DataFrame with columns:\n",
    "            dir_dec : bootstrapped median declination value\n",
    "            dir_inc : bootstrapped median inclination value\n",
    "            dir_k : bootstrapped median kappa value\n",
    "            dir_n : number of rows in original dataframe\n",
    "            dir_alpha95: A95 associated with medioan kappa\n",
    "    if return_distribution is True:\n",
    "        boot_results: Pandas DataFrame with all bootstrapped values of columns above\n",
    "    \n",
    "  \n",
    "    \"\"\"\n",
    "    dir_df=dir_df.dropna()\n",
    "    N = dir_df.shape[0] # Note: N counts only non-NaN elements\n",
    "    if N>1:\n",
    "        if column_map is not None:\n",
    "            dir_df=dir_df.rename(columns=column_map)\n",
    "        all_boot_results = pd.DataFrame(np.zeros((nb,5)),columns=['dir_dec','dir_inc','dir_n','dir_k','dir_alpha95'])\n",
    "        t0=time.clock()\n",
    "        for k in tqdm(range(nb)):\n",
    "            boot_di=dir_df.apply(lambda x: np.array(list(ipmag.fishrot(k=x['dir_k'],n=int(x['dir_n']),dec=x['dir_dec'],inc=x['dir_inc'],di_block=False))).T,axis=1).explode().apply(lambda x: pd.Series({'dir_dec':x[0],'dir_inc':x[1]}))\n",
    "            all_boot_results.iloc[k,:] = pd.Series(pmag.dir_df_fisher_mean(boot_di)).drop(index=['csd','r']).rename(index={'alpha95':'dir_alpha95',\n",
    "                                      'dec':'dir_dec',\n",
    "                                      'inc':'dir_inc',\n",
    "                                      'k':'dir_k',\n",
    "                                      'n':'dir_n'})\n",
    "        t1=time.clock()\n",
    "        t_total=t1-t0\n",
    "\n",
    "        b = 20.**(1./(N -1.))-1.\n",
    "        if return_distribution:\n",
    "            results = all_boot_results\n",
    "            results['a']=1-b*(N-1.)/((N*(results['dir_k']-1.))-1.)\n",
    "            results['dir_n']=N\n",
    "            results['dir_alpha95']=np.degrees(np.arccos(results['a']))\n",
    "            results['result_type']='a'\n",
    "        else:\n",
    "            fisher_avg=pd.DataFrame([pmag.dir_df_fisher_mean(all_boot_results)]).rename(columns={'alpha95':'dir_alpha95',\n",
    "                                      'dec':'dir_dec',\n",
    "                                      'inc':'dir_inc',\n",
    "                                      'k':'dir_k',\n",
    "                                      'n':'dir_n'})\n",
    "            fisher_avg['dir_k'] = np.median(all_boot_results['dir_k'].to_numpy())\n",
    "            fisher_avg['dir_n'] = N\n",
    "            a=1-b*(N-1.)/((N*(fisher_avg['dir_k']-1.))-1.)\n",
    "            fisher_avg['dir_alpha95'] = np.degrees(np.arccos(a))\n",
    "            fisher_avg['time']=t_total\n",
    "            results=fisher_avg[['dir_dec','dir_inc','dir_k','dir_n','dir_alpha95','time']]\n",
    "            results['result_type']='a'\n",
    "        if column_map is not None:\n",
    "            column_map_r=dict(zip(column_map.values(),column_map.keys()))\n",
    "            results=results.rename(columns=column_map_r)\n",
    "        return(results)\n",
    "    else:\n",
    "        return(dir_df)\n"
   ]
  },
  {
   "cell_type": "markdown",
   "metadata": {},
   "source": [
    "## Letts et al. 2009"
   ]
  },
  {
   "cell_type": "code",
   "execution_count": 4,
   "metadata": {
    "scrolled": true
   },
   "outputs": [],
   "source": [
    "## Letts et al (2009)\n",
    "#%%capture sites_conversion_log\n",
    "# Capture output to sites_conversion_log\n",
    "\n",
    "## Convert Sites XLSX Files to MagIC format\n",
    "\n",
    "# In this XLSX file, here is how I interpret the mapping of relevant columns to the MagIC 3.0 data model (PAS 8/16/2024): \n",
    "#  \n",
    "#\n",
    "#  Region: sites.location (Note: there are also 'locations' for each )\n",
    "#  DecLong: sites.lon\n",
    "#  DecLat: sites.lat\n",
    "#  n (col. L): sites.dir_n_total_samples\n",
    "#  Full Site: sites.site (had to add this column to remove ambiguities in site numbers)\n",
    "#  GDec: sites.dir_dec\n",
    "#  GInc: sites.dir_inc\n",
    "#  Strike: sites.bed_dip_direction (=(strike+90.)%360.)\n",
    "#  Dip: sites.bed_dip_direction\n",
    "#  n (col. W): sites.dir_n_samples\n",
    "#  a95 (col. X): sites.dir_alpha95\n",
    "#  kappa: sites.dir_k\n",
    "#  Lithology: sites.lithologies\n",
    "#  \n",
    "# Assumptions:\n",
    "#\n",
    "#  sites.formation = \"Bushveld Complex\"\n",
    "#  sites.result_type = \"i\"\n",
    "#  sites.method_codes = \"DE-BFL:DE-K:LP-DIR-AF:LP-DIR-T\"\n",
    "#  sites.citations = \"10.1111/j.1365-246X.2009.04346.x\"\n",
    "#  sites.age = 2054\n",
    "#  sites.age_unit = \"Ma\"\n",
    "#  sites.dir_tilt_correction = 0\n",
    "#  sites.result_quality = \"g\" if n (col. W) is not nan, otherwise \"b\"\n",
    "\n",
    "letts_data = pd.read_excel(data_folder/'Letts_Bushveld.xlsx',sheet_name='Sheet1')\n",
    "#display(letts_data)"
   ]
  },
  {
   "cell_type": "code",
   "execution_count": 5,
   "metadata": {},
   "outputs": [],
   "source": [
    "# Compile sites dataframe\n",
    "sites_df=pd.DataFrame([])\n",
    "sites_df['site']=letts_data['Full Site'].astype('string')\n",
    "#sites_df['location']=letts_data.apply(lambda x: \"{}:{}\".format(x['Region'],x['Site']),axis=1)\n",
    "sites_df['location']=letts_data['Region']\n",
    "sites_df['lat']=letts_data['DecLat']\n",
    "sites_df['lon']=letts_data['DecLong']\n",
    "sites_df['dir_n_total_samples']=letts_data['n']\n",
    "sites_df['dir_n_samples']=letts_data['n.1']\n",
    "sites_df['dir_dec']=letts_data['GDec']\n",
    "sites_df['dir_inc']=letts_data['GInc']\n",
    "sites_df['bed_dip']=letts_data['Dip']\n",
    "sites_df['bed_dip_direction']=(letts_data['Strike']+90.)%360.\n",
    "sites_df['dir_alpha95']=letts_data['a95.1']\n",
    "sites_df['dir_k']=letts_data['kappa']\n",
    "sites_df['lithologies']= letts_data['Lithology']\n",
    "sites_df['formation']= \"Bushveld Complex\"\n",
    "sites_df['geologic_classes']='Igneous:Intrusive'\n",
    "sites_df['result_type']= \"i\"\n",
    "sites_df['method_codes']= \"DE-BFL:DE-K:LP-DIR-AF:LP-DIR-T\"\n",
    "sites_df['citations']= \"10.1111/j.1365-246X.2009.04346.x\"\n",
    "sites_df['geologic_types']=\"Layered Intrusion\"\n",
    "sites_df['age']= 2054\n",
    "sites_df['age_unit']= \"Ma\"\n",
    "sites_df['dir_tilt_correction']=0\n",
    "sites_df['result_quality']= letts_data.apply(lambda x: 'b' if np.isnan(x['n.1']) else 'g',axis=1)\n",
    "#display(sites_df)"
   ]
  },
  {
   "cell_type": "code",
   "execution_count": 6,
   "metadata": {},
   "outputs": [],
   "source": [
    "# Calculate and attach VGPs\n",
    "vgps_df=add_vgps(sites_df)\n",
    "sites_df = pd.concat([sites_df,vgps_df],axis=1)"
   ]
  },
  {
   "cell_type": "markdown",
   "metadata": {},
   "source": [
    "_Note: Here we test the bootstrap to determine a \"total\" kappa value when averaging site means. We tested two groups of sites from Letts, rows 0-2 and 6-11. In both cases, the nb=500 bootstrap both provided a low enough variance (standard deviation of kappa from 7 runs is about 1% of the mean) and enough precision (average kappa of 7 runs is within 5% of the value at nb=10000) in a short enough time to make the bootstrap feasible._"
   ]
  },
  {
   "cell_type": "code",
   "execution_count": null,
   "metadata": {
    "scrolled": true
   },
   "outputs": [],
   "source": [
    "to_avg=sites_df[sites_df['location']=='Main Zone Western Lobe'][['dir_dec','dir_inc','dir_n_samples','dir_k']].iloc[0:3,:]\n",
    "print(to_avg)\n",
    "print('Fisher Mean:')\n",
    "print(pd.DataFrame(pmag.dir_df_fisher_mean(to_avg),index=[0]))\n",
    "to_avg.columns=['dir_dec','dir_inc','dir_n','dir_k']\n",
    "boots=[10, 20, 50, 50, 50, 50, 50, 50, 50, 100, 200, 300, 400, 500, 600, 700, 500, 500, 500, 500, 500, 500,\n",
    "       500, 800, 900, 1000, 1000, 1000, 1000, 1000, 1000, 1000, 10000]\n",
    "results=pd.DataFrame([],columns=['dir_dec','dir_inc','dir_n','dir_k','dir_alpha95'])\n",
    "for nb in boots:\n",
    "    print(f'Bootstrap (nb = {nb}):')\n",
    "    result=dir_df_boot_ci(to_avg,nb=nb)\n",
    "    result['nb']=nb\n",
    "    results=results.append(result)\n",
    "print(results)"
   ]
  },
  {
   "cell_type": "code",
   "execution_count": null,
   "metadata": {},
   "outputs": [],
   "source": [
    "result_averages = results.groupby('nb').apply(np.mean)\n",
    "result_std = results.groupby('nb').apply(np.std)\n",
    "print(result_std)\n",
    "big_kappa=result_averages.loc[10000,'dir_k']\n",
    "print(big_kappa)\n",
    "results['q']=100.*np.abs(results['dir_k']-big_kappa)/big_kappa\n",
    "print(result_averages)\n",
    "ax=plt.subplot(111)\n",
    "ax.plot(boots,100*np.abs(results['dir_k']-big_kappa)/big_kappa,'ko')\n",
    "ax2 = ax.twinx()\n",
    "ax2.plot(boots,results['dir_alpha95'],'bo')\n",
    "plt.title('Scree Plot')\n",
    "ax.set_xlabel('Number of bootstrap realizations')\n",
    "ax.set_ylabel('$100\\\\frac{\\kappa_i - \\\\kappa_{10000}}{\\\\kappa_{10000}}$')\n",
    "ax2.set_ylabel('$\\\\alpha_{95}$',color='blue')\n",
    "# Note: 500 is probably enough. Gives about 5% difference from 1000 average, std dev is ~1%"
   ]
  },
  {
   "cell_type": "code",
   "execution_count": 7,
   "metadata": {},
   "outputs": [
    {
     "data": {
      "text/plain": [
       "array(['Main Zone Western Lobe', 'Main Zone Eastern Lobe',\n",
       "       'Critical Zone', 'Upper Zone', 'Main Zone Northern Lobe'],\n",
       "      dtype=object)"
      ]
     },
     "metadata": {},
     "output_type": "display_data"
    },
    {
     "data": {
      "text/plain": [
       "array(['Bushveld Complex'], dtype=object)"
      ]
     },
     "metadata": {},
     "output_type": "display_data"
    }
   ],
   "source": [
    "display(sites_df['location'].unique())\n",
    "display(sites_df['formation'].unique())"
   ]
  },
  {
   "cell_type": "code",
   "execution_count": 27,
   "metadata": {
    "scrolled": true
   },
   "outputs": [
    {
     "name": "stderr",
     "output_type": "stream",
     "text": [
      "100%|████████████████████████████████████████████████████████████████████████████████| 500/500 [00:21<00:00, 22.89it/s]\n",
      "100%|████████████████████████████████████████████████████████████████████████████████| 500/500 [01:05<00:00,  7.61it/s]\n",
      "100%|████████████████████████████████████████████████████████████████████████████████| 500/500 [00:47<00:00, 10.43it/s]\n",
      "100%|████████████████████████████████████████████████████████████████████████████████| 500/500 [01:21<00:00,  6.12it/s]\n",
      "100%|████████████████████████████████████████████████████████████████████████████████| 500/500 [00:27<00:00, 18.43it/s]\n",
      "100%|████████████████████████████████████████████████████████████████████████████████| 500/500 [03:41<00:00,  2.25it/s]\n"
     ]
    }
   ],
   "source": [
    "sample_map={'dir_n_samples':'dir_n'}\n",
    "# Compile locations dataframe\n",
    "locations_df1=pd.DataFrame([])\n",
    "sites_group=sites_df.groupby('location')\n",
    "locations_df1['location']=sites_group.groups.keys()\n",
    "locations_df1['sites']=sites_group['site'].unique().apply(':'.join).reset_index(drop=True)#.drop('location',axis=1)\n",
    "locations_df1['location_type']='Region'\n",
    "locations_df1['geologic_classes']='Igneous:Intrusive'\n",
    "locations_df1['lithologies']=sites_group['lithologies'].unique().apply(':'.join).reset_index(drop=True)#.drop('location',axis=1)\n",
    "locations_df1['lat_s']=sites_group['lat'].min().reset_index(drop=True)\n",
    "locations_df1['lat_n']=sites_group['lat'].max().reset_index(drop=True)\n",
    "locations_df1['lon_e']=sites_group['lon'].max().reset_index(drop=True)\n",
    "locations_df1['lon_w']=sites_group['lon'].min().reset_index(drop=True)\n",
    "locations_df1['age']=2054\n",
    "locations_df1['age_unit']=\"Ma\"\n",
    "locations_df1=pd.concat([locations_df1,sites_group.apply(lambda x: dir_df_boot_ci(x,column_map=sample_map)).reset_index()],axis=1)\n",
    "locations_df1=locations_df1.rename({'dir_n_samples':'dir_n_sites'})\n",
    "\n",
    "locations_df2=pd.DataFrame([])\n",
    "sites_group=sites_df.groupby('formation')\n",
    "locations_df2['location']=sites_group.groups.keys()\n",
    "locations_df2['sites']=sites_group['site'].unique().apply(':'.join).reset_index(drop=True)#.drop('formation',axis=1)\n",
    "locations_df2['location_type']='Region'\n",
    "locations_df2['geologic_classes']='Igneous:Intrusive'\n",
    "locations_df2['lithologies']=sites_group['lithologies'].unique().apply(':'.join).reset_index(drop=True)#.drop('formation',axis=1)\n",
    "locations_df2['lat_s']=sites_group['lat'].min().reset_index(drop=True)\n",
    "locations_df2['lat_n']=sites_group['lat'].max().reset_index(drop=True)\n",
    "locations_df2['lon_e']=sites_group['lon'].max().reset_index(drop=True)\n",
    "locations_df2['lon_w']=sites_group['lon'].min().reset_index(drop=True)\n",
    "locations_df2['age']=2054\n",
    "locations_df2['age_unit']=\"Ma\"\n",
    "locations_df2=pd.concat([locations_df2,sites_group.apply(lambda x: dir_df_boot_ci(x,column_map=sample_map)).reset_index()],axis=1)\n",
    "locations_df2=locations_df2.rename({'dir_n_samples':'dir_n_sites'})"
   ]
  },
  {
   "cell_type": "code",
   "execution_count": 28,
   "metadata": {},
   "outputs": [
    {
     "data": {
      "text/html": [
       "<div>\n",
       "<style scoped>\n",
       "    .dataframe tbody tr th:only-of-type {\n",
       "        vertical-align: middle;\n",
       "    }\n",
       "\n",
       "    .dataframe tbody tr th {\n",
       "        vertical-align: top;\n",
       "    }\n",
       "\n",
       "    .dataframe thead th {\n",
       "        text-align: right;\n",
       "    }\n",
       "</style>\n",
       "<table border=\"1\" class=\"dataframe\">\n",
       "  <thead>\n",
       "    <tr style=\"text-align: right;\">\n",
       "      <th></th>\n",
       "      <th>location</th>\n",
       "      <th>sites</th>\n",
       "      <th>location_type</th>\n",
       "      <th>geologic_classes</th>\n",
       "      <th>lithologies</th>\n",
       "      <th>lat_s</th>\n",
       "      <th>lat_n</th>\n",
       "      <th>lon_e</th>\n",
       "      <th>lon_w</th>\n",
       "      <th>age</th>\n",
       "      <th>age_unit</th>\n",
       "      <th>dir_dec</th>\n",
       "      <th>dir_inc</th>\n",
       "      <th>dir_k</th>\n",
       "      <th>dir_n_samples</th>\n",
       "      <th>dir_alpha95</th>\n",
       "      <th>result_type</th>\n",
       "    </tr>\n",
       "  </thead>\n",
       "  <tbody>\n",
       "    <tr>\n",
       "      <th>0</th>\n",
       "      <td>Critical Zone</td>\n",
       "      <td>CZ-4:CZ-66:CZ-67:CZ-68:CZ-M:CZ-B1:CZ-B2:CZ-H2:...</td>\n",
       "      <td>Region</td>\n",
       "      <td>Igneous:Intrusive</td>\n",
       "      <td>Norite:Intrusives</td>\n",
       "      <td>-24.886833</td>\n",
       "      <td>-24.401167</td>\n",
       "      <td>30.138667</td>\n",
       "      <td>27.310700</td>\n",
       "      <td>2054</td>\n",
       "      <td>Ma</td>\n",
       "      <td>182.595084</td>\n",
       "      <td>-66.155839</td>\n",
       "      <td>2.408205</td>\n",
       "      <td>8</td>\n",
       "      <td>50.521709</td>\n",
       "      <td>a</td>\n",
       "    </tr>\n",
       "    <tr>\n",
       "      <th>1</th>\n",
       "      <td>Main Zone Eastern Lobe</td>\n",
       "      <td>MZE-1:MZE-2a:MZE-2b:MZE-3:MZE-8:MZE-42:MZE-43:...</td>\n",
       "      <td>Region</td>\n",
       "      <td>Igneous:Intrusive</td>\n",
       "      <td>Gabbronorite:Norite</td>\n",
       "      <td>-25.689000</td>\n",
       "      <td>-24.335333</td>\n",
       "      <td>30.044333</td>\n",
       "      <td>29.379500</td>\n",
       "      <td>2054</td>\n",
       "      <td>Ma</td>\n",
       "      <td>31.042797</td>\n",
       "      <td>61.379339</td>\n",
       "      <td>1.949928</td>\n",
       "      <td>26</td>\n",
       "      <td>30.037031</td>\n",
       "      <td>a</td>\n",
       "    </tr>\n",
       "    <tr>\n",
       "      <th>2</th>\n",
       "      <td>Main Zone Northern Lobe</td>\n",
       "      <td>MZN-1:MZN-2:MZN-3:MZN-4:MZN-5:MZN-6:MZN-7:MZN-...</td>\n",
       "      <td>Region</td>\n",
       "      <td>Igneous:Intrusive</td>\n",
       "      <td>Intrusives</td>\n",
       "      <td>-24.227333</td>\n",
       "      <td>-23.433333</td>\n",
       "      <td>29.034500</td>\n",
       "      <td>28.117500</td>\n",
       "      <td>2054</td>\n",
       "      <td>Ma</td>\n",
       "      <td>33.680726</td>\n",
       "      <td>55.559955</td>\n",
       "      <td>7.400600</td>\n",
       "      <td>22</td>\n",
       "      <td>12.320395</td>\n",
       "      <td>a</td>\n",
       "    </tr>\n",
       "    <tr>\n",
       "      <th>3</th>\n",
       "      <td>Main Zone Western Lobe</td>\n",
       "      <td>MZW-10:MZW-11:MZW-12:MZW-13:MZW-14:MZW-15:MZW-...</td>\n",
       "      <td>Region</td>\n",
       "      <td>Igneous:Intrusive</td>\n",
       "      <td>Gabbronorite</td>\n",
       "      <td>-25.627000</td>\n",
       "      <td>-25.514333</td>\n",
       "      <td>28.214833</td>\n",
       "      <td>27.307333</td>\n",
       "      <td>2054</td>\n",
       "      <td>Ma</td>\n",
       "      <td>352.907171</td>\n",
       "      <td>78.945103</td>\n",
       "      <td>12.139278</td>\n",
       "      <td>31</td>\n",
       "      <td>7.756635</td>\n",
       "      <td>a</td>\n",
       "    </tr>\n",
       "    <tr>\n",
       "      <th>4</th>\n",
       "      <td>Upper Zone</td>\n",
       "      <td>UZ-5:UZ-9:UZ-39:UZ-40:UZ-57:UZ-60:UZ-64:UZ-70</td>\n",
       "      <td>Region</td>\n",
       "      <td>Igneous:Intrusive</td>\n",
       "      <td>Gabbro:Gabbronorite:Pyroxenite</td>\n",
       "      <td>-25.381500</td>\n",
       "      <td>-24.415333</td>\n",
       "      <td>29.896333</td>\n",
       "      <td>27.207167</td>\n",
       "      <td>2054</td>\n",
       "      <td>Ma</td>\n",
       "      <td>169.589785</td>\n",
       "      <td>-53.554708</td>\n",
       "      <td>2.056481</td>\n",
       "      <td>8</td>\n",
       "      <td>60.115052</td>\n",
       "      <td>a</td>\n",
       "    </tr>\n",
       "    <tr>\n",
       "      <th>5</th>\n",
       "      <td>Bushveld Complex</td>\n",
       "      <td>MZW-10:MZW-11:MZW-12:MZW-13:MZW-14:MZW-15:MZW-...</td>\n",
       "      <td>Region</td>\n",
       "      <td>Igneous:Intrusive</td>\n",
       "      <td>Gabbronorite:Norite:Intrusives:Gabbro:Pyroxenite</td>\n",
       "      <td>-25.689000</td>\n",
       "      <td>-23.433333</td>\n",
       "      <td>30.138667</td>\n",
       "      <td>27.207167</td>\n",
       "      <td>2054</td>\n",
       "      <td>Ma</td>\n",
       "      <td>30.602110</td>\n",
       "      <td>71.115509</td>\n",
       "      <td>1.995222</td>\n",
       "      <td>95</td>\n",
       "      <td>14.656502</td>\n",
       "      <td>a</td>\n",
       "    </tr>\n",
       "  </tbody>\n",
       "</table>\n",
       "</div>"
      ],
      "text/plain": [
       "                  location                                              sites  \\\n",
       "0            Critical Zone  CZ-4:CZ-66:CZ-67:CZ-68:CZ-M:CZ-B1:CZ-B2:CZ-H2:...   \n",
       "1   Main Zone Eastern Lobe  MZE-1:MZE-2a:MZE-2b:MZE-3:MZE-8:MZE-42:MZE-43:...   \n",
       "2  Main Zone Northern Lobe  MZN-1:MZN-2:MZN-3:MZN-4:MZN-5:MZN-6:MZN-7:MZN-...   \n",
       "3   Main Zone Western Lobe  MZW-10:MZW-11:MZW-12:MZW-13:MZW-14:MZW-15:MZW-...   \n",
       "4               Upper Zone      UZ-5:UZ-9:UZ-39:UZ-40:UZ-57:UZ-60:UZ-64:UZ-70   \n",
       "5         Bushveld Complex  MZW-10:MZW-11:MZW-12:MZW-13:MZW-14:MZW-15:MZW-...   \n",
       "\n",
       "  location_type   geologic_classes  \\\n",
       "0        Region  Igneous:Intrusive   \n",
       "1        Region  Igneous:Intrusive   \n",
       "2        Region  Igneous:Intrusive   \n",
       "3        Region  Igneous:Intrusive   \n",
       "4        Region  Igneous:Intrusive   \n",
       "5        Region  Igneous:Intrusive   \n",
       "\n",
       "                                        lithologies      lat_s      lat_n  \\\n",
       "0                                 Norite:Intrusives -24.886833 -24.401167   \n",
       "1                               Gabbronorite:Norite -25.689000 -24.335333   \n",
       "2                                        Intrusives -24.227333 -23.433333   \n",
       "3                                      Gabbronorite -25.627000 -25.514333   \n",
       "4                    Gabbro:Gabbronorite:Pyroxenite -25.381500 -24.415333   \n",
       "5  Gabbronorite:Norite:Intrusives:Gabbro:Pyroxenite -25.689000 -23.433333   \n",
       "\n",
       "       lon_e      lon_w   age age_unit     dir_dec    dir_inc      dir_k  \\\n",
       "0  30.138667  27.310700  2054       Ma  182.595084 -66.155839   2.408205   \n",
       "1  30.044333  29.379500  2054       Ma   31.042797  61.379339   1.949928   \n",
       "2  29.034500  28.117500  2054       Ma   33.680726  55.559955   7.400600   \n",
       "3  28.214833  27.307333  2054       Ma  352.907171  78.945103  12.139278   \n",
       "4  29.896333  27.207167  2054       Ma  169.589785 -53.554708   2.056481   \n",
       "5  30.138667  27.207167  2054       Ma   30.602110  71.115509   1.995222   \n",
       "\n",
       "   dir_n_samples  dir_alpha95 result_type  \n",
       "0              8    50.521709           a  \n",
       "1             26    30.037031           a  \n",
       "2             22    12.320395           a  \n",
       "3             31     7.756635           a  \n",
       "4              8    60.115052           a  \n",
       "5             95    14.656502           a  "
      ]
     },
     "metadata": {},
     "output_type": "display_data"
    }
   ],
   "source": [
    "locations_df = pd.concat([locations_df1.iloc[:, [j for j, c in enumerate(locations_df1.columns) if j not in [11, 12, 18]]], \n",
    "                          locations_df2.iloc[:, [j for j, c in enumerate(locations_df2.columns) if j not in [11, 12, 18]]]],\n",
    "                         axis=0,ignore_index=True)\n",
    "display(locations_df)"
   ]
  },
  {
   "cell_type": "code",
   "execution_count": 29,
   "metadata": {},
   "outputs": [
    {
     "name": "stdout",
     "output_type": "stream",
     "text": [
      "                          reference      lab_names\n",
      "0  10.1111/j.1365-246X.2009.04346.x  Not Specified\n"
     ]
    }
   ],
   "source": [
    "# Compile contributions dataframe\n",
    "contribution_df=pd.DataFrame({'reference':[\"10.1111/j.1365-246X.2009.04346.x\"],'lab_names':[\"Not Specified\"]},index=[0])\n",
    "print(contribution_df)"
   ]
  },
  {
   "cell_type": "code",
   "execution_count": 30,
   "metadata": {},
   "outputs": [],
   "source": [
    "contribution_dicts=contribution_df.fillna('').to_dict('records')\n",
    "locations_dicts=locations_df.fillna('').to_dict('records')\n",
    "sites_dicts = sites_df.fillna('').to_dict('records')"
   ]
  },
  {
   "cell_type": "code",
   "execution_count": 31,
   "metadata": {
    "scrolled": false
   },
   "outputs": [
    {
     "name": "stdout",
     "output_type": "stream",
     "text": [
      "1  records written to file  C:\\Users\\paselkin\\Dropbox\\Research\\intrusion_magnetics\\published-data-to-magic\\magic\\letts2009_contribution.txt\n",
      "6  records written to file  C:\\Users\\paselkin\\Dropbox\\Research\\intrusion_magnetics\\published-data-to-magic\\magic\\letts2009_locations.txt\n",
      "101  records written to file  C:\\Users\\paselkin\\Dropbox\\Research\\intrusion_magnetics\\published-data-to-magic\\magic\\letts2009_sites.txt\n"
     ]
    },
    {
     "data": {
      "text/plain": [
       "(True,\n",
       " WindowsPath('C:/Users/paselkin/Dropbox/Research/intrusion_magnetics/published-data-to-magic/magic/letts2009_sites.txt'))"
      ]
     },
     "execution_count": 31,
     "metadata": {},
     "output_type": "execute_result"
    }
   ],
   "source": [
    "pmag.magic_write(magic_folder/'letts2009_contribution.txt', contribution_dicts, 'contribution')\n",
    "pmag.magic_write(str(magic_folder/'letts2009_locations.txt'), locations_dicts, 'locations')\n",
    "pmag.magic_write(magic_folder/'letts2009_sites.txt', sites_dicts, 'sites')"
   ]
  },
  {
   "cell_type": "markdown",
   "metadata": {},
   "source": [
    "## Kosterov & Perrin (1996)"
   ]
  },
  {
   "cell_type": "code",
   "execution_count": null,
   "metadata": {
    "scrolled": true
   },
   "outputs": [],
   "source": [
    "## Kosterov & Perrin (1996)\n",
    "#%%capture sites_conversion_log\n",
    "# Capture output to sites_conversion_log\n",
    "\n",
    "## Convert Sites XLSX Files to MagIC format\n",
    "\n",
    "# In this XLSX file, here is how I interpret the mapping of relevant columns to the MagIC 3.0 data model (PAS 10/07/2024): \n",
    "#  \n",
    "#\n",
    "#  Location: samples.site\n",
    "#  ID: samples.sample (had to add this column to remove ambiguities in site numbers)\n",
    "#  Lat: samples.lat\n",
    "#  Long: samples.lon\n",
    "#  N: samples.dir_n_total_specimens\n",
    "#  n: samples.dir_n_specimens\n",
    "#  Inc: samples.dir_inc\n",
    "#  Dec: samples.dir_dec\n",
    "#  k: samples.dir_k\n",
    "#  a95: samples.dir_alpha95\n",
    "#  GroupID: samples.site ()\n",
    "#  \n",
    "# Assumptions:\n",
    "#\n",
    "#  samples.result_type = \"i\"\n",
    "#  samples.method_codes = \"DE-BFL:DE-K:LP-DIR-AF:LP-DIR-T\"\n",
    "#  samples.citations = \"10.1016/0012-821X(96)00005-2\"\n",
    "#  samples.age = 180\n",
    "#  samples.age_sigma = 5\n",
    "#  samples.age_unit = \"Ma\"\n",
    "#  samples.dir_tilt_correction = 0\n",
    "#  samples.result_quality = \"g\" if group (col. N) is not nan, otherwise \"b\"\n",
    "\n",
    "kosterov1996_data = pd.read_excel(data_folder/'KarooData.xlsx',sheet_name='Kosterov 1996',skiprows=4).dropna(how='all')\n",
    "#display(kosterov1996_data)"
   ]
  },
  {
   "cell_type": "code",
   "execution_count": null,
   "metadata": {},
   "outputs": [],
   "source": [
    "# Compile samples dataframe\n",
    "samples_df=pd.DataFrame([])\n",
    "samples_df['sample']=kosterov1996_data['ID'].astype('string')\n",
    "samples_df['site']=kosterov1996_data['GroupID'].astype('string')\n",
    "samples_df['site']=samples_df['site'].fillna('N/A')\n",
    "samples_df['location']=kosterov1996_data['Location']\n",
    "samples_df['lat']=kosterov1996_data['Lat']\n",
    "samples_df['lon']=kosterov1996_data['Long']\n",
    "samples_df['dir_n_total_specimens']=kosterov1996_data['N']\n",
    "samples_df['dir_n_specimens']=kosterov1996_data['n']\n",
    "samples_df['dir_dec']=kosterov1996_data['Dec']\n",
    "samples_df['dir_inc']=kosterov1996_data['Inc']\n",
    "samples_df['dir_alpha95']=kosterov1996_data['a95']\n",
    "samples_df['dir_k']=kosterov1996_data['k']\n",
    "samples_df['lithologies']= 'Basalt'\n",
    "samples_df['geologic_classes']='Igneous:Extrusive'\n",
    "samples_df['result_type']= \"i\"\n",
    "samples_df['method_codes']= \"DE-BFL:DE-K:LP-DIR-AF:LP-DIR-T\"\n",
    "samples_df['citations']= \"10.1016/0012-821X(96)00005-2\"\n",
    "samples_df['geologic_types']=\"Lava Flow\"\n",
    "samples_df['age']= 180\n",
    "samples_df['age_sigma']= 5\n",
    "samples_df['age_unit']= \"Ma\"\n",
    "samples_df['dir_tilt_correction']=0\n",
    "samples_df['result_quality']= 'g'\n",
    "samples_df.loc[samples_df['location'].isna(),'result_quality']='b'\n",
    "with pd.option_context('display.max_rows', 1000, 'display.max_columns', 10):\n",
    "    display(samples_df)"
   ]
  },
  {
   "cell_type": "code",
   "execution_count": null,
   "metadata": {},
   "outputs": [],
   "source": [
    "# Calculate and attach VGPs\n",
    "vgps_df=add_vgps(samples_df)\n",
    "samples_df = pd.concat([samples_df,vgps_df],axis=1)"
   ]
  },
  {
   "cell_type": "code",
   "execution_count": null,
   "metadata": {
    "scrolled": true
   },
   "outputs": [],
   "source": [
    "sample_map={'dir_n_specimens':'dir_n'}\n",
    "# Compile sites dataframe\n",
    "sites_df=pd.DataFrame([])\n",
    "samples_group=samples_df.groupby('site')\n",
    "sites_df['site']=samples_group.groups.keys()\n",
    "sites_df['samples']=samples_group['sample'].unique().apply(':'.join).reset_index(drop=True)#.drop('site',axis=1)\n",
    "sites_df['site_type']='Outcrop'\n",
    "sites_df['geologic_classes']=samples_group['geologic_classes'].unique().apply(':'.join).reset_index(drop=True)#.drop('site',axis=1)\n",
    "sites_df['lithologies']='Basalt'\n",
    "sites_df['location']=samples_group.first()['location'].reset_index(drop=True)\n",
    "sites_df['lat_s']=samples_df['lat'].min()\n",
    "sites_df['lat_n']=samples_df['lat'].max()\n",
    "sites_df['lon_e']=samples_df['lon'].max()\n",
    "sites_df['lon_w']=samples_df['lon'].min()\n",
    "sites_df['age']=180\n",
    "sites_df['age_sigma']=5\n",
    "sites_df['age_unit']=\"Ma\"\n",
    "sites_df=pd.concat([sites_df,samples_group.apply(lambda x: dir_df_boot_ci(x,column_map=sample_map)).reset_index()],axis=1)\n",
    "sites_df=sites_df.rename({'dir_n_samples':'dir_n_sites'})"
   ]
  },
  {
   "cell_type": "code",
   "execution_count": null,
   "metadata": {
    "scrolled": true
   },
   "outputs": [],
   "source": [
    "location_map={'dir_n_samples':'dir_n'}\n",
    "# Compile locations dataframe\n",
    "locations_df=pd.DataFrame([])\n",
    "sites_group=sites_df.groupby('location')\n",
    "locations_df['location']=sites_group.groups.keys()\n",
    "locations_df['sites']=sites_group['site'].unique().apply(':'.join).reset_index(drop=True)\n",
    "locations_df['location_type']='Outcrop'\n",
    "locations_df['geologic_classes']=sites_group['geologic_classes'].unique().apply(':'.join).reset_index(drop=True).drop('location',axis=1)\n",
    "locations_df['lithologies']='Basalt'\n",
    "locations_df['description']=sites_group.first()['description'].reset_index(drop=True)\n",
    "locations_df['lat_s']=sites_df['lat'].min()\n",
    "locations_df['lat_n']=sites_df['lat'].max()\n",
    "locations_df['lon_e']=sites_df['lon'].max()\n",
    "locations_df['lon_w']=sites_df['lon'].min()\n",
    "locations_df['age']=180\n",
    "locations_df['age_sigma']=5\n",
    "locations_df['age_unit']=\"Ma\"\n",
    "locations_df=pd.concat([locations_df,sites_group.apply(lambda x: dir_df_boot_ci(x,column_map=sample_map)).reset_index()],axis=1)\n",
    "\n",
    "with pd.option_context('display.max_rows', 1000, 'display.max_columns', 10):\n",
    "    display(locations_df)"
   ]
  },
  {
   "cell_type": "code",
   "execution_count": null,
   "metadata": {},
   "outputs": [],
   "source": [
    "locations_dicts=locations_df.fillna('').to_dict('records')\n",
    "sites_dicts = sites_df.fillna('').to_dict('records')"
   ]
  },
  {
   "cell_type": "code",
   "execution_count": null,
   "metadata": {
    "scrolled": true
   },
   "outputs": [],
   "source": [
    "pmag.magic_write(str(magic_folder/'kosterov1996_locations.txt'), locations_dicts, 'locations')\n",
    "pmag.magic_write(magic_folder/'kosterov1996_sites.txt', sites_dicts, 'sites')"
   ]
  },
  {
   "cell_type": "markdown",
   "metadata": {},
   "source": [
    "## Moulin et al. 2011"
   ]
  },
  {
   "cell_type": "code",
   "execution_count": null,
   "metadata": {
    "scrolled": true
   },
   "outputs": [],
   "source": [
    "## Moulin et al. 2011\n",
    "#%%capture sites_conversion_log\n",
    "# Capture output to sites_conversion_log\n",
    "\n",
    "## Convert Sites XLSX Files to MagIC format\n",
    "\n",
    "# In this XLSX file, here is how I interpret the mapping of relevant columns to the MagIC 3.0 data model (PAS 8/17/2024): \n",
    "#  \n",
    "#\n",
    "#  Section: sites.description\n",
    "#  Site: sites.site (had to add this column to remove ambiguities in site numbers)\n",
    "#  Slat: sites.lat\n",
    "#  Slon: sites.lon\n",
    "#  N: sites.dir_n_total_samples\n",
    "#  n: sites.dir_n_samples\n",
    "#  Ig: sites.dir_inc\n",
    "#  Dg: sites.dir_dec\n",
    "#  k: sites.dir_k\n",
    "#  a95: sites.dir_alpha95\n",
    "#  Dir. Group or Flow: sites.location\n",
    "#  Age: sites.age\n",
    "#  dAge: sites.age_sigma\n",
    "#  \n",
    "# Assumptions:\n",
    "#\n",
    "#  sites.result_type = \"i\"\n",
    "#  sites.method_codes = \"DE-BFL:DE-K:LP-DIR-AF:LP-DIR-T\"\n",
    "#  sites.citations = \"10.1029/2011JB008210\"\n",
    "#  sites.age_unit = \"Ma\"\n",
    "#  sites.dir_tilt_correction = 0\n",
    "#  sites.result_quality = \"g\" if group is not nan, otherwise \"b\"\n",
    "\n",
    "moulin2011_data = pd.read_excel(data_folder/'KarooData.xlsx',sheet_name='Moulin 2011',skiprows=4,usecols=\"A:S\").dropna(how='all')\n",
    "#display(moulin2011_data)"
   ]
  },
  {
   "cell_type": "code",
   "execution_count": null,
   "metadata": {},
   "outputs": [],
   "source": [
    "# Compile sites dataframe\n",
    "sites_df=pd.DataFrame([])\n",
    "sites_df['site']=moulin2011_data['Site'].astype('string')\n",
    "sites_df['formation']=moulin2011_data['Formation'].astype('string')\n",
    "sites_df['location']=moulin2011_data['Dir. Group or Flow'].astype('string')\n",
    "sites_df['description']=moulin2011_data['Section']\n",
    "sites_df['lat']=moulin2011_data['Slat']\n",
    "sites_df['lon']=moulin2011_data['Slon']\n",
    "sites_df['dir_n_total_samples']=moulin2011_data['N']\n",
    "sites_df['dir_n_samples']=moulin2011_data['n']\n",
    "sites_df['dir_dec']=moulin2011_data['Dg']\n",
    "sites_df['dir_inc']=moulin2011_data['Ig']\n",
    "sites_df['dir_alpha95']=moulin2011_data['a95']\n",
    "sites_df['dir_k']=moulin2011_data['k']\n",
    "sites_df['lithologies']= 'Basalt'\n",
    "sites_df['geologic_classes']='Igneous:Extrusive'\n",
    "sites_df['result_type']= \"i\"\n",
    "sites_df['method_codes']= \"DE-BFL:DE-K:LP-DIR-AF:LP-DIR-T\"\n",
    "sites_df['citations']= \"10.1029/2011JB008210\"\n",
    "sites_df['geologic_types']=\"Lava Flow\"\n",
    "sites_df['age']= moulin2011_data['Age']\n",
    "sites_df['age_sigma']= moulin2011_data['dAge']\n",
    "sites_df['age_unit']= \"Ma\"\n",
    "sites_df['dir_tilt_correction']=0\n",
    "sites_df['result_quality']= 'g'\n",
    "sites_df.loc[sites_df['location'].isna(),'result_quality']='b'\n",
    "with pd.option_context('display.max_rows', 1000, 'display.max_columns', 10):\n",
    "    display(sites_df)"
   ]
  },
  {
   "cell_type": "code",
   "execution_count": null,
   "metadata": {},
   "outputs": [],
   "source": [
    "# Calculate and attach VGPs\n",
    "vgps_df=add_vgps(sites_df)\n",
    "sites_df = pd.concat([sites_df,vgps_df],axis=1)"
   ]
  },
  {
   "cell_type": "code",
   "execution_count": null,
   "metadata": {
    "scrolled": true
   },
   "outputs": [],
   "source": [
    "# Compile locations dataframe\n",
    "locations_df1=pd.DataFrame([])\n",
    "sites_group=sites_df.groupby('location')\n",
    "locations_df1['location']=sites_group.groups.keys()\n",
    "locations_df1['sites']=sites_group['site'].unique().apply(':'.join).reset_index().drop('location',axis=1)\n",
    "locations_df1['description']=sites_group.first()['description'].reset_index(drop=True)\n",
    "locations_df1['location_type']='Outcrop'\n",
    "locations_df1['geologic_classes']=sites_group['geologic_classes'].unique().apply(':'.join).reset_index().drop('location',axis=1)\n",
    "locations_df1['lithologies']='Basalt'\n",
    "locations_df1['lat_s']=sites_df['lat'].min()\n",
    "locations_df1['lat_n']=sites_df['lat'].max()\n",
    "locations_df1['lon_e']=sites_df['lon'].max()\n",
    "locations_df1['lon_w']=sites_df['lon'].min()\n",
    "locations_df1['age_low']=sites_df['age'].min()\n",
    "locations_df1['age_high']=sites_df['age'].max()\n",
    "locations_df1['age_sigma']=sites_df['age_sigma'].max()\n",
    "locations_df1['age_unit']=\"Ma\"\n",
    "locations_df1=pd.concat([locations_df1,sites_group.apply(lambda x: fisher_avg(x)).reset_index()[['dir_dec','dir_inc','dir_n_sites','dir_k','dir_alpha95','result_type']]],\n",
    "                        axis=1)\n",
    "\n",
    "locations_df2=pd.DataFrame([])\n",
    "#sites_group=sites_df.groupby('description')\n",
    "sites_group=locations_df1.groupby('description')\n",
    "\n",
    "locations_df2['location']=sites_group.groups.keys()\n",
    "new_sites=sites_group.apply(lambda x:\":\".join(list(set(x['sites'].str.split(':').explode().tolist())))).reset_index()\n",
    "new_sites.columns=['location','sites']\n",
    "\n",
    "locations_df2=pd.merge(locations_df2,new_sites,on='location')\n",
    "locations_df2['location_type']='Stratigraphic Section'\n",
    "locations_df2['geologic_classes']=sites_group['geologic_classes'].unique().apply(':'.join).reset_index().drop('description',axis=1)\n",
    "locations_df2['lithologies']='Basalt'\n",
    "locations_df2['lat_s']=sites_df['lat'].min()\n",
    "locations_df2['lat_n']=sites_df['lat'].max()\n",
    "locations_df2['lon_e']=sites_df['lon'].max()\n",
    "locations_df2['lon_w']=sites_df['lon'].min()\n",
    "locations_df2['age_low']=sites_df['age'].min()\n",
    "locations_df2['age_high']=sites_df['age'].max()\n",
    "locations_df2['age_sigma']=sites_df['age_sigma'].max()\n",
    "locations_df2['age_unit']=\"Ma\"\n",
    "locations_df2=pd.concat([locations_df2,sites_group.apply(lambda x: fisher_avg(x)).reset_index()[['dir_dec','dir_inc','dir_n_sites','dir_k','dir_alpha95','result_type']]],\n",
    "                        axis=1)\n",
    "\n",
    "locations_df = pd.concat([locations_df1, locations_df2],axis=0).reset_index(drop=True)\n",
    "with pd.option_context('display.max_rows', 1000, 'display.max_columns', 10):\n",
    "    display(locations_df)"
   ]
  },
  {
   "cell_type": "code",
   "execution_count": null,
   "metadata": {},
   "outputs": [],
   "source": [
    "locations_dicts=locations_df.fillna('').to_dict('records')\n",
    "sites_dicts = sites_df.fillna('').to_dict('records')"
   ]
  },
  {
   "cell_type": "code",
   "execution_count": null,
   "metadata": {
    "scrolled": true
   },
   "outputs": [],
   "source": [
    "pmag.magic_write(str(magic_folder/'moulin2011_locations.txt'), locations_dicts, 'locations')\n",
    "pmag.magic_write(magic_folder/'moulin2011_sites.txt', sites_dicts, 'sites')"
   ]
  },
  {
   "cell_type": "markdown",
   "metadata": {},
   "source": [
    "## Moulin et al. 2012"
   ]
  },
  {
   "cell_type": "code",
   "execution_count": null,
   "metadata": {
    "scrolled": true
   },
   "outputs": [],
   "source": [
    "## Moulin et al. 2012\n",
    "#%%capture sites_conversion_log\n",
    "# Capture output to sites_conversion_log\n",
    "\n",
    "## Convert Sites XLSX Files to MagIC format\n",
    "\n",
    "# In this XLSX file, here is how I interpret the mapping of relevant columns to the MagIC 3.0 data model (PAS 8/17/2024): \n",
    "#  \n",
    "#\n",
    "#  Section: sites.location\n",
    "#  Site: sites.site (had to add this column to remove ambiguities in site numbers)\n",
    "#  Lat: sites.lat\n",
    "#  Long: sites.lon\n",
    "#  N: sites.dir_n_total_samples\n",
    "#  n: sites.dir_n_samples\n",
    "#  Inc: sites.dir_inc\n",
    "#  Dec: sites.dir_dec\n",
    "#  k: sites.dir_k\n",
    "#  a95: sites.dir_alpha95\n",
    "#  Dir. Group: sites.group\n",
    "#  \n",
    "# Assumptions:\n",
    "#\n",
    "#  sites.result_type = \"i\"\n",
    "#  sites.method_codes = \"DE-BFL:DE-K:LP-DIR-AF:LP-DIR-T\"\n",
    "#  sites.citations = \"10.1029/2011GC003910\"\n",
    "#  sites.age = 179.2\n",
    "#  sites.age_sigma = 1.8\n",
    "#  sites.age_unit = \"Ma\"\n",
    "#  sites.dir_tilt_correction = 0\n",
    "#  sites.result_quality = \"g\" if group is not nan, otherwise \"b\"\n",
    "\n",
    "moulin2012_data = pd.read_excel(data_folder/'KarooData.xlsx',sheet_name='Moulin 2012',skiprows=3,usecols=\"A:L\").dropna(how='all')\n",
    "display(moulin2012_data)"
   ]
  },
  {
   "cell_type": "code",
   "execution_count": null,
   "metadata": {
    "scrolled": true
   },
   "outputs": [],
   "source": [
    "# Compile sites dataframe\n",
    "sites_df=pd.DataFrame([])\n",
    "sites_df['site']=moulin2012_data['Site'].astype('string')\n",
    "sites_df['groups']=moulin2012_data['Dir. Group'].astype('string')\n",
    "sites_df['location']=moulin2012_data['Section']\n",
    "sites_df['lat']=moulin2012_data['Lat']\n",
    "sites_df['lon']=moulin2012_data['Long']\n",
    "sites_df['dir_n_total_samples']=moulin2012_data['N']\n",
    "sites_df['dir_n_samples']=moulin2012_data['n']\n",
    "sites_df['dir_dec']=moulin2012_data['Dec']\n",
    "sites_df['dir_inc']=moulin2012_data['Inc']\n",
    "sites_df['dir_alpha95']=moulin2012_data['a95']\n",
    "sites_df['dir_k']=moulin2012_data['k']\n",
    "sites_df['lithologies']= 'Basalt'\n",
    "sites_df['geologic_classes']='Igneous:Extrusive'\n",
    "sites_df['result_type']= \"i\"\n",
    "sites_df['method_codes']= \"DE-BFL:DE-K:LP-DIR-AF:LP-DIR-T\"\n",
    "sites_df['citations']= \"10.1029/2011GC003910\"\n",
    "sites_df['geologic_types']=\"Lava Flow\"\n",
    "sites_df['age']= 179.2\n",
    "sites_df['age_sigma']= 1.8\n",
    "sites_df['age_unit']= \"Ma\"\n",
    "sites_df['dir_tilt_correction']=0\n",
    "sites_df['result_quality']= 'g'\n",
    "sites_df.loc[sites_df['groups'].isna(),'result_quality']='b'\n",
    "with pd.option_context('display.max_rows', 1000, 'display.max_columns', 10):\n",
    "    display(sites_df)"
   ]
  },
  {
   "cell_type": "code",
   "execution_count": null,
   "metadata": {},
   "outputs": [],
   "source": [
    "# Calculate and attach VGPs\n",
    "vgps_df=add_vgps(sites_df)\n",
    "sites_df = pd.concat([sites_df,vgps_df],axis=1)"
   ]
  },
  {
   "cell_type": "code",
   "execution_count": null,
   "metadata": {
    "scrolled": true
   },
   "outputs": [],
   "source": [
    "# Compile locations dataframe\n",
    "locations_df=pd.DataFrame([])\n",
    "sites_group=sites_df.groupby('location')\n",
    "locations_df['location']=sites_group.groups.keys()\n",
    "locations_df['sites']=sites_group['site'].unique().apply(':'.join).reset_index().drop('location',axis=1)\n",
    "locations_df['location_type']='Stratigraphic Section'\n",
    "locations_df['geologic_classes']=sites_group['geologic_classes'].unique().apply(':'.join).reset_index().drop('location',axis=1)\n",
    "locations_df['lithologies']='Basalt'\n",
    "locations_df['lat_s']=sites_df['lat'].min()\n",
    "locations_df['lat_n']=sites_df['lat'].max()\n",
    "locations_df['lon_e']=sites_df['lon'].max()\n",
    "locations_df['lon_w']=sites_df['lon'].min()\n",
    "locations_df['age']=179.2\n",
    "locations_df['age_sigma']=1.8\n",
    "locations_df['age_unit']=\"Ma\"\n",
    "with pd.option_context('display.max_rows', 1000, 'display.max_columns', 10):\n",
    "    display(locations_df)"
   ]
  },
  {
   "cell_type": "code",
   "execution_count": null,
   "metadata": {},
   "outputs": [],
   "source": [
    "locations_dicts=locations_df.to_dict('records')\n",
    "sites_dicts = sites_df.to_dict('records')"
   ]
  },
  {
   "cell_type": "code",
   "execution_count": null,
   "metadata": {
    "scrolled": true
   },
   "outputs": [],
   "source": [
    "pmag.magic_write(str(magic_folder/'moulin2012_locations.txt'), locations_dicts, 'locations')\n",
    "pmag.magic_write(magic_folder/'moulin2012_sites.txt', sites_dicts, 'sites')"
   ]
  },
  {
   "cell_type": "markdown",
   "metadata": {},
   "source": [
    "## Moulin et al. 2017"
   ]
  },
  {
   "cell_type": "code",
   "execution_count": null,
   "metadata": {
    "scrolled": true
   },
   "outputs": [],
   "source": [
    "## Moulin et al. 2017\n",
    "#%%capture sites_conversion_log\n",
    "# Capture output to sites_conversion_log\n",
    "\n",
    "## Convert Sites XLSX Files to MagIC format\n",
    "\n",
    "# In this XLSX file, here is how I interpret the mapping of relevant columns to the MagIC 3.0 data model (PAS 8/17/2024): \n",
    "#  \n",
    "#\n",
    "#  Section: sites.location\n",
    "#  Site: sites.site (had to add this column to remove ambiguities in site numbers)\n",
    "#  Slat (deg): sites.lat\n",
    "#  Slon (deg): sites.lon\n",
    "#  N: sites.dir_n_total_samples\n",
    "#  n: sites.dir_n_samples\n",
    "#  Ig (deg): sites.dir_inc\n",
    "#  Dg (deg): sites.dir_dec\n",
    "#  K: sites.dir_k\n",
    "#  a95 (deg): sites.dir_alpha95\n",
    "#  Directional Group or Single Flow: sites.group\n",
    "#  \n",
    "# Assumptions:\n",
    "#\n",
    "#  sites.result_type = \"i\"\n",
    "#  sites.method_codes = \"DE-BFL:DE-K:LP-DIR-AF:LP-DIR-T\"\n",
    "#  sites.citations = \"10.1002/2016JB013354\"\n",
    "#  sites.age = 181.1\n",
    "#  sites.age_sigma = 1.0\n",
    "#  sites.age_unit = \"Ma\"\n",
    "#  sites.dir_tilt_correction = 0\n",
    "#  sites.result_quality = \"g\" if group is not nan, otherwise \"b\"\n",
    "\n",
    "moulin2017_data = pd.read_excel(data_folder/'KarooData.xlsx',sheet_name='Moulin 2017',skiprows=1,usecols=\"A:L\").dropna(how='all')\n",
    "display(moulin2017_data)"
   ]
  },
  {
   "cell_type": "code",
   "execution_count": null,
   "metadata": {
    "scrolled": true
   },
   "outputs": [],
   "source": [
    "# Compile sites dataframe\n",
    "sites_df=pd.DataFrame([])\n",
    "sites_df['site']=moulin2017_data['Site'].astype('string')\n",
    "sites_df['groups']=moulin2017_data['Directional Group or Single Flow'].astype('string')\n",
    "sites_df['location']=moulin2017_data['Section']\n",
    "sites_df['lat']=moulin2017_data['Slat (deg)']\n",
    "sites_df['lon']=moulin2017_data['Slon (deg)']\n",
    "sites_df['dir_n_total_samples']=moulin2017_data['N']\n",
    "sites_df['dir_n_samples']=moulin2017_data['n']\n",
    "sites_df['dir_dec']=moulin2017_data['Dg (deg)']\n",
    "sites_df['dir_inc']=moulin2017_data['Ig (deg)']\n",
    "sites_df['dir_alpha95']=moulin2017_data['a95 (deg)']\n",
    "sites_df['dir_k']=moulin2017_data['K']\n",
    "sites_df['lithologies']= 'Basalt'\n",
    "sites_df['geologic_classes']='Igneous:Extrusive'\n",
    "sites_df['result_type']= \"i\"\n",
    "sites_df['method_codes']= \"DE-BFL:DE-K:LP-DIR-AF:LP-DIR-T\"\n",
    "sites_df['citations']= \"10.1002/2016JB013354\"\n",
    "sites_df['geologic_types']=\"Lava Flow\"\n",
    "sites_df['age']= 181.1\n",
    "sites_df['age_sigma']= 1.0\n",
    "sites_df['age_unit']= \"Ma\"\n",
    "sites_df['dir_tilt_correction']=0\n",
    "sites_df['result_quality']= 'g'\n",
    "sites_df.loc[sites_df['groups'].isna(),'result_quality']='b'\n",
    "with pd.option_context('display.max_rows', 1000, 'display.max_columns', 10):\n",
    "    display(sites_df)"
   ]
  },
  {
   "cell_type": "code",
   "execution_count": null,
   "metadata": {},
   "outputs": [],
   "source": [
    "# Calculate and attach VGPs\n",
    "vgps_df=add_vgps(sites_df)\n",
    "sites_df = pd.concat([sites_df,vgps_df],axis=1)"
   ]
  },
  {
   "cell_type": "code",
   "execution_count": null,
   "metadata": {
    "scrolled": true
   },
   "outputs": [],
   "source": [
    "# Compile locations dataframe\n",
    "locations_df=pd.DataFrame([])\n",
    "sites_group=sites_df.groupby('location')\n",
    "locations_df['location']=sites_group.groups.keys()\n",
    "locations_df['sites']=sites_group['site'].unique().apply(':'.join).reset_index().drop('location',axis=1)\n",
    "locations_df['location_type']='Stratigraphic Section'\n",
    "locations_df['geologic_classes']=sites_group['geologic_classes'].unique().apply(':'.join).reset_index().drop('location',axis=1)\n",
    "locations_df['lithologies']='Basalt'\n",
    "locations_df['lat_s']=sites_df['lat'].min()\n",
    "locations_df['lat_n']=sites_df['lat'].max()\n",
    "locations_df['lon_e']=sites_df['lon'].max()\n",
    "locations_df['lon_w']=sites_df['lon'].min()\n",
    "locations_df['age']=181.1\n",
    "locations_df['age_sigma']=1.0\n",
    "locations_df['age_unit']=\"Ma\"\n",
    "with pd.option_context('display.max_rows', 1000, 'display.max_columns', 10):\n",
    "    display(locations_df)"
   ]
  },
  {
   "cell_type": "code",
   "execution_count": null,
   "metadata": {},
   "outputs": [],
   "source": [
    "locations_dicts=locations_df.to_dict('records')\n",
    "sites_dicts = sites_df.to_dict('records')"
   ]
  },
  {
   "cell_type": "code",
   "execution_count": null,
   "metadata": {
    "scrolled": true
   },
   "outputs": [],
   "source": [
    "pmag.magic_write(str(magic_folder/'moulin2017_locations.txt'), locations_dicts, 'locations')\n",
    "pmag.magic_write(magic_folder/'moulin2017_sites.txt', sites_dicts, 'sites')"
   ]
  },
  {
   "cell_type": "code",
   "execution_count": null,
   "metadata": {},
   "outputs": [],
   "source": []
  }
 ],
 "metadata": {
  "kernelspec": {
   "display_name": "Python (pmagpy_env)",
   "language": "python",
   "name": "pmagpy_env"
  },
  "language_info": {
   "codemirror_mode": {
    "name": "ipython",
    "version": 3
   },
   "file_extension": ".py",
   "mimetype": "text/x-python",
   "name": "python",
   "nbconvert_exporter": "python",
   "pygments_lexer": "ipython3",
   "version": "3.7.16"
  }
 },
 "nbformat": 4,
 "nbformat_minor": 4
}
